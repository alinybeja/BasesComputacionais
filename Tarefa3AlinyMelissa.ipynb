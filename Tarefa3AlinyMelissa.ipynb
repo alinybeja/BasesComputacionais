{
  "nbformat": 4,
  "nbformat_minor": 0,
  "metadata": {
    "colab": {
      "provenance": [],
      "authorship_tag": "ABX9TyMdAZ5IP7RBrDwVivm0RHfJ",
      "include_colab_link": true
    },
    "kernelspec": {
      "name": "python3",
      "display_name": "Python 3"
    },
    "language_info": {
      "name": "python"
    }
  },
  "cells": [
    {
      "cell_type": "markdown",
      "metadata": {
        "id": "view-in-github",
        "colab_type": "text"
      },
      "source": [
        "<a href=\"https://colab.research.google.com/github/alinybeja/BasesComputacionais/blob/master/Tarefa3AlinyMelissa.ipynb\" target=\"_parent\"><img src=\"https://colab.research.google.com/assets/colab-badge.svg\" alt=\"Open In Colab\"/></a>"
      ]
    },
    {
      "cell_type": "markdown",
      "source": [
        "Tarefa 3\n",
        "\n",
        "Aliny Melissa Martinelli Beja"
      ],
      "metadata": {
        "id": "2Y83XGY1ZTY5"
      }
    },
    {
      "cell_type": "code",
      "execution_count": 8,
      "metadata": {
        "colab": {
          "base_uri": "https://localhost:8080/"
        },
        "id": "rT2vYg8oZOB0",
        "outputId": "9cda8473-7d99-4248-904e-81f3fdeb83b2"
      },
      "outputs": [
        {
          "output_type": "stream",
          "name": "stdout",
          "text": [
            "o número de segundos em 1.5 h é 5400.0\n",
            "o número de segundos em 12 h é 43200\n",
            "o número de segundos em 24 h é 86400\n"
          ]
        }
      ],
      "source": [
        "# ns é o número de segundos no dado número de horas\n",
        "# 3600 é o número de segundos contidos em uma hora\n",
        "\n",
        "h1=1.5\n",
        "ns1 = h1*3600\n",
        "print ('o número de segundos em', h1, 'h é', ns1)\n",
        "\n",
        "h2=12\n",
        "ns2 = h2*3600\n",
        "print ('o número de segundos em', h2, 'h é', ns2)\n",
        "\n",
        "h3=24\n",
        "ns3 = h3*3600\n",
        "print ('o número de segundos em', h3, 'h é', ns3)\n"
      ]
    }
  ]
}